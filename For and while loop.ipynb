{
 "cells": [
  {
   "cell_type": "code",
   "execution_count": 17,
   "id": "1d04e50b",
   "metadata": {},
   "outputs": [
    {
     "name": "stdout",
     "output_type": "stream",
     "text": [
      "1 T\n",
      "2 u\n",
      "3 s\n",
      "4 h\n",
      "5 a\n",
      "6 r\n",
      "Total Character is  6\n"
     ]
    }
   ],
   "source": [
    "name=\"Tushar\"\n",
    "j=0\n",
    "for i in name:\n",
    "    j=j+1\n",
    "    print(j,i)\n",
    "print(\"Total Character is \",j)"
   ]
  },
  {
   "cell_type": "code",
   "execution_count": 2,
   "id": "455f0270",
   "metadata": {},
   "outputs": [
    {
     "name": "stdout",
     "output_type": "stream",
     "text": [
      "Even is  6\n",
      "Sum Of Even No.= 30\n",
      "Sum of Square Even No.= 220\n",
      "Odd is  5\n",
      "Sum of Odd No.= 25\n",
      "Sum of Square Odd No.= 1225\n"
     ]
    }
   ],
   "source": [
    "a=[0,1,2,3,4,5,6,7,8,9,10]\n",
    "e=0\n",
    "o=0\n",
    "c=0\n",
    "d=0\n",
    "s=0\n",
    "t=0\n",
    "for i in a:\n",
    "    if i%2==0:\n",
    "        e=e+1\n",
    "        c=c+i\n",
    "        s=s+i**2\n",
    "    else:\n",
    "        o=o+1\n",
    "        d=d+i\n",
    "        t=t+i**3\n",
    "print(\"Even is \",e)\n",
    "print(\"Sum Of Even No.=\",c)\n",
    "print(\"Sum of Square Even No.=\",s)\n",
    "print(\"Odd is \",o)\n",
    "print(\"Sum of Odd No.=\",d)\n",
    "print(\"Sum of Square Odd No.=\",t)"
   ]
  },
  {
   "cell_type": "code",
   "execution_count": 26,
   "id": "9120a7b1",
   "metadata": {},
   "outputs": [
    {
     "name": "stdout",
     "output_type": "stream",
     "text": [
      "['a', 'b', 'c', 'd', 'e', 'f', 'g', 'h', 'i', 'j', 'k', 'l', 'm', 'n', 'o', 'p', 'q', 'r', 's', 't', 'u', 'v', 'w', 'x', 'y', 'z']\n"
     ]
    }
   ],
   "source": [
    "L=[]\n",
    "for i in range(97,123):\n",
    "    L.append(chr(i))\n",
    "print(L)"
   ]
  },
  {
   "cell_type": "code",
   "execution_count": 36,
   "id": "b0fb6feb",
   "metadata": {},
   "outputs": [
    {
     "name": "stdout",
     "output_type": "stream",
     "text": [
      "apl= 26\n",
      "Vowel= 5\n",
      "consonants 21\n"
     ]
    }
   ],
   "source": [
    "v=['a', 'b', 'c', 'd', 'e', 'f', 'g', 'h', 'i', 'j', 'k', 'l', 'm', 'n', 'o', 'p', 'q', 'r', 's', 't', 'u', 'v', 'w', 'x', 'y', 'z']\n",
    "a=0\n",
    "c=0\n",
    "co=0\n",
    "for i in v:\n",
    "    a=a+1\n",
    "    if i=='a' or i=='e' or i=='i' or i=='o' or i=='u':\n",
    "      \n",
    "        c=c+1\n",
    "    else:\n",
    "        \n",
    "        co=co+1\n",
    "print(\"apl=\",a)\n",
    "print(\"Vowel=\",c)\n",
    "print('consonants',co)\n",
    "# for i in v:\n",
    "#     c=c+1\n",
    "# print(\"Total No. of vowels=\",c)\n",
    "    "
   ]
  },
  {
   "cell_type": "code",
   "execution_count": 1,
   "id": "20ec791f",
   "metadata": {},
   "outputs": [
    {
     "name": "stdout",
     "output_type": "stream",
     "text": [
      "palidrom\n"
     ]
    }
   ],
   "source": [
    "x='naman'\n",
    "if x==x[::-1]:\n",
    "    print(\"palidrom\")\n",
    "else:\n",
    "    print(\"Not palidrom\")"
   ]
  },
  {
   "cell_type": "code",
   "execution_count": 4,
   "id": "03baf9e5",
   "metadata": {},
   "outputs": [
    {
     "name": "stdout",
     "output_type": "stream",
     "text": [
      "Enter String=Tushar\n",
      "Not Palidrom:\n"
     ]
    }
   ],
   "source": [
    "n=input(\"Enter String=\")\n",
    "if n==n[::-1]:\n",
    "    print(\"Paidrom:\")\n",
    "else:\n",
    "    print(\"Not Palidrom:\")"
   ]
  },
  {
   "cell_type": "code",
   "execution_count": 6,
   "id": "ee8b4a68",
   "metadata": {},
   "outputs": [
    {
     "name": "stdout",
     "output_type": "stream",
     "text": [
      "1 Tushar\n",
      "2 Tushar\n",
      "3 Tushar\n",
      "4 Tushar\n",
      "5 Tushar\n",
      "6 Tushar\n",
      "7 Tushar\n",
      "8 Tushar\n",
      "9 Tushar\n",
      "10 Tushar\n"
     ]
    }
   ],
   "source": [
    "n='Tushar'\n",
    "for i in range (1,11):\n",
    "    print(i,n)"
   ]
  },
  {
   "cell_type": "code",
   "execution_count": 42,
   "id": "dede677c",
   "metadata": {},
   "outputs": [
    {
     "name": "stdout",
     "output_type": "stream",
     "text": [
      "Square of Even No.= 171700\n",
      "Square of Odd No.= 12497500\n"
     ]
    }
   ],
   "source": [
    "a=0\n",
    "b=0\n",
    "for i in range(1,100+1):\n",
    "    if i%2==0:\n",
    "        a=a+i**2\n",
    "    else:\n",
    "        b=b+i**3\n",
    "print(\"Square of Even No.=\",a)\n",
    "print(\"Square of Odd No.=\",b)"
   ]
  },
  {
   "cell_type": "code",
   "execution_count": 19,
   "id": "81b8ccbb",
   "metadata": {},
   "outputs": [
    {
     "name": "stdout",
     "output_type": "stream",
     "text": [
      "Enter Your Name=Tushar\n",
      "1 Tushar\n",
      "2 Tushar\n",
      "3 Tushar\n",
      "4 Tushar\n",
      "5 Tushar\n",
      "6 Tushar\n",
      "7 Tushar\n",
      "8 Tushar\n",
      "9 Tushar\n",
      "10 Tushar\n"
     ]
    }
   ],
   "source": [
    "n=input(\"Enter Your Name=\")\n",
    "for i in range(1,11):\n",
    "    print(i,n)"
   ]
  },
  {
   "cell_type": "code",
   "execution_count": 18,
   "id": "3da5de63",
   "metadata": {},
   "outputs": [
    {
     "name": "stdout",
     "output_type": "stream",
     "text": [
      "12\n"
     ]
    }
   ],
   "source": [
    "n=\"Tushar Tomer\"\n",
    "a=0\n",
    "for i in n:\n",
    "     a=a+1\n",
    "print(a)"
   ]
  },
  {
   "cell_type": "code",
   "execution_count": 21,
   "id": "7dbe756a",
   "metadata": {},
   "outputs": [
    {
     "name": "stdout",
     "output_type": "stream",
     "text": [
      "T\n",
      "u\n",
      "s\n",
      "h\n",
      "a\n",
      "r\n",
      " \n",
      "T\n",
      "o\n",
      "m\n",
      "e\n",
      "r\n"
     ]
    }
   ],
   "source": [
    "n='Tushar Tomer'\n",
    "for i in n:\n",
    "    print(i)"
   ]
  },
  {
   "cell_type": "code",
   "execution_count": 26,
   "id": "95e8ec0d",
   "metadata": {},
   "outputs": [
    {
     "name": "stdout",
     "output_type": "stream",
     "text": [
      "Tushar Tomer\n",
      "1\n",
      "2\n",
      "3\n",
      "4\n"
     ]
    }
   ],
   "source": [
    "n=['Tushar Tomer',1,2,3,4]\n",
    "for i in n:\n",
    "    print(i)"
   ]
  },
  {
   "cell_type": "code",
   "execution_count": 5,
   "id": "1b55d04f",
   "metadata": {},
   "outputs": [
    {
     "name": "stdout",
     "output_type": "stream",
     "text": [
      "2 * 1 = 2\n",
      "2 * 2 = 4\n",
      "2 * 3 = 6\n",
      "2 * 4 = 8\n",
      "2 * 5 = 10\n",
      "2 * 6 = 12\n",
      "2 * 7 = 14\n",
      "2 * 8 = 16\n",
      "2 * 9 = 18\n",
      "2 * 10 = 20\n"
     ]
    }
   ],
   "source": [
    "for i in range(1,11):\n",
    "    print(\"2 *\",i,\"=\",2*i)"
   ]
  },
  {
   "cell_type": "code",
   "execution_count": 6,
   "id": "c2dd0e91",
   "metadata": {},
   "outputs": [
    {
     "name": "stdout",
     "output_type": "stream",
     "text": [
      "Enter starting no. for table=2\n",
      "Enter ending no. for table=10\n",
      "2 * 1 = 2\n",
      "2 * 2 = 4\n",
      "2 * 3 = 6\n",
      "2 * 4 = 8\n",
      "2 * 5 = 10\n",
      "2 * 6 = 12\n",
      "2 * 7 = 14\n",
      "2 * 8 = 16\n",
      "2 * 9 = 18\n",
      "2 * 10 = 20\n",
      "\n",
      "\n",
      "3 * 1 = 3\n",
      "3 * 2 = 6\n",
      "3 * 3 = 9\n",
      "3 * 4 = 12\n",
      "3 * 5 = 15\n",
      "3 * 6 = 18\n",
      "3 * 7 = 21\n",
      "3 * 8 = 24\n",
      "3 * 9 = 27\n",
      "3 * 10 = 30\n",
      "\n",
      "\n",
      "4 * 1 = 4\n",
      "4 * 2 = 8\n",
      "4 * 3 = 12\n",
      "4 * 4 = 16\n",
      "4 * 5 = 20\n",
      "4 * 6 = 24\n",
      "4 * 7 = 28\n",
      "4 * 8 = 32\n",
      "4 * 9 = 36\n",
      "4 * 10 = 40\n",
      "\n",
      "\n",
      "5 * 1 = 5\n",
      "5 * 2 = 10\n",
      "5 * 3 = 15\n",
      "5 * 4 = 20\n",
      "5 * 5 = 25\n",
      "5 * 6 = 30\n",
      "5 * 7 = 35\n",
      "5 * 8 = 40\n",
      "5 * 9 = 45\n",
      "5 * 10 = 50\n",
      "\n",
      "\n",
      "6 * 1 = 6\n",
      "6 * 2 = 12\n",
      "6 * 3 = 18\n",
      "6 * 4 = 24\n",
      "6 * 5 = 30\n",
      "6 * 6 = 36\n",
      "6 * 7 = 42\n",
      "6 * 8 = 48\n",
      "6 * 9 = 54\n",
      "6 * 10 = 60\n",
      "\n",
      "\n",
      "7 * 1 = 7\n",
      "7 * 2 = 14\n",
      "7 * 3 = 21\n",
      "7 * 4 = 28\n",
      "7 * 5 = 35\n",
      "7 * 6 = 42\n",
      "7 * 7 = 49\n",
      "7 * 8 = 56\n",
      "7 * 9 = 63\n",
      "7 * 10 = 70\n",
      "\n",
      "\n",
      "8 * 1 = 8\n",
      "8 * 2 = 16\n",
      "8 * 3 = 24\n",
      "8 * 4 = 32\n",
      "8 * 5 = 40\n",
      "8 * 6 = 48\n",
      "8 * 7 = 56\n",
      "8 * 8 = 64\n",
      "8 * 9 = 72\n",
      "8 * 10 = 80\n",
      "\n",
      "\n",
      "9 * 1 = 9\n",
      "9 * 2 = 18\n",
      "9 * 3 = 27\n",
      "9 * 4 = 36\n",
      "9 * 5 = 45\n",
      "9 * 6 = 54\n",
      "9 * 7 = 63\n",
      "9 * 8 = 72\n",
      "9 * 9 = 81\n",
      "9 * 10 = 90\n",
      "\n",
      "\n",
      "10 * 1 = 10\n",
      "10 * 2 = 20\n",
      "10 * 3 = 30\n",
      "10 * 4 = 40\n",
      "10 * 5 = 50\n",
      "10 * 6 = 60\n",
      "10 * 7 = 70\n",
      "10 * 8 = 80\n",
      "10 * 9 = 90\n",
      "10 * 10 = 100\n",
      "\n",
      "\n"
     ]
    }
   ],
   "source": [
    "s=int(input(\"Enter starting no. for table=\"))\n",
    "n=int(input(\"Enter ending no. for table=\"))\n",
    "for i in range(s,n+1):\n",
    "    for j in range(1,11):\n",
    "        print(i,\"*\",j,\"=\",i*j)\n",
    "    print(\"\\n\")"
   ]
  },
  {
   "cell_type": "code",
   "execution_count": 7,
   "id": "bd32c926",
   "metadata": {},
   "outputs": [
    {
     "name": "stdout",
     "output_type": "stream",
     "text": [
      "Enter Your Factorial No.=10\n",
      "3628800\n"
     ]
    }
   ],
   "source": [
    "n=int(input(\"Enter Your Factorial No.=\"))\n",
    "f=1\n",
    "if n<0:\n",
    "    print(\"Not Possible:\")\n",
    "elif n==0:\n",
    "    print(f)\n",
    "else:\n",
    "    for i in range(1,n+1):\n",
    "         f=f*i\n",
    "    \n",
    "         \n",
    "    print(f)"
   ]
  },
  {
   "cell_type": "code",
   "execution_count": 13,
   "id": "8d1fa45c",
   "metadata": {},
   "outputs": [
    {
     "name": "stdout",
     "output_type": "stream",
     "text": [
      "Enter Your No.=7\n",
      "1\n",
      "7\n",
      "2\n",
      "Prime No.\n"
     ]
    }
   ],
   "source": [
    "n=int(input(\"Enter Your No.=\"))\n",
    "c=0\n",
    "for i in range(1,n+1):\n",
    "    if n%i==0:\n",
    "        c=c+1\n",
    "        print(i)\n",
    "print(c)\n",
    "if c==2:\n",
    "    print(\"Prime No.\")\n",
    "else:\n",
    "    print(\"Not a Prime No.\")\n"
   ]
  },
  {
   "cell_type": "code",
   "execution_count": 4,
   "id": "f16787b5",
   "metadata": {},
   "outputs": [
    {
     "name": "stdout",
     "output_type": "stream",
     "text": [
      "1\n",
      "Average is  5\n"
     ]
    }
   ],
   "source": [
    "l=[1,2,3,4,5,6,7,8,9,10]\n",
    "s=0\n",
    "n=0\n",
    "for i in l:\n",
    "    s=s+i\n",
    "    n=n+1\n",
    "print(\"Average is \",s//n)"
   ]
  },
  {
   "cell_type": "code",
   "execution_count": 4,
   "id": "c5ff273f",
   "metadata": {},
   "outputs": [
    {
     "name": "stdout",
     "output_type": "stream",
     "text": [
      "How many no. are you enter=5\n",
      "Enter No.1=2\n",
      "Enter No.2=4\n",
      "Enter No.3=6\n",
      "Enter No.4=8\n",
      "Enter No.5=10\n",
      "Average is  6\n"
     ]
    }
   ],
   "source": [
    "c=0\n",
    "b=0\n",
    "n=int(input(\"How many no. are you enter=\"))\n",
    "for i in range(1,n+1):\n",
    "    a=int(input(\"Enter No.\" +str(i)+ \"=\"))\n",
    "    c=c+a\n",
    "    b=b+1\n",
    "print(\"Average is \",c//b)\n",
    "    \n"
   ]
  },
  {
   "cell_type": "code",
   "execution_count": 4,
   "id": "456c6d9e",
   "metadata": {},
   "outputs": [
    {
     "name": "stdout",
     "output_type": "stream",
     "text": [
      "Enter No.=10\n",
      "0\n",
      "1\n",
      "1\n",
      "2\n",
      "3\n",
      "5\n",
      "8\n",
      "13\n",
      "21\n",
      "34\n"
     ]
    }
   ],
   "source": [
    "# Fibonic No.\n",
    "n=int(input(\"Enter No.=\"))\n",
    "a=0\n",
    "b=1\n",
    "for i in range(n):\n",
    "    print(a)\n",
    "    c=a\n",
    "    a=b\n",
    "    b=a+c"
   ]
  },
  {
   "cell_type": "code",
   "execution_count": 5,
   "id": "975bb347",
   "metadata": {},
   "outputs": [
    {
     "name": "stdout",
     "output_type": "stream",
     "text": [
      "Enter Any no.=10\n",
      "0\n",
      "1\n",
      "1\n",
      "2\n",
      "3\n",
      "5\n",
      "8\n",
      "13\n",
      "21\n",
      "34\n"
     ]
    }
   ],
   "source": [
    "n=int(input(\"Enter Any no.=\"))\n",
    "a=0\n",
    "b=1\n",
    "for i in range(n):\n",
    "    print(a)\n",
    "    c=a\n",
    "    a=b\n",
    "    b=a+c"
   ]
  },
  {
   "cell_type": "code",
   "execution_count": 21,
   "id": "7d31f4a9",
   "metadata": {},
   "outputs": [
    {
     "name": "stdout",
     "output_type": "stream",
     "text": [
      "1\n",
      "2\n",
      "3\n",
      "4\n",
      "5\n",
      "6\n",
      "7\n",
      "8\n",
      "9\n",
      "10\n"
     ]
    }
   ],
   "source": [
    "a=1\n",
    "b=10\n",
    "while a<=b:\n",
    "    print(a)\n",
    "    a=a+1"
   ]
  },
  {
   "cell_type": "code",
   "execution_count": 6,
   "id": "028c9187",
   "metadata": {},
   "outputs": [
    {
     "name": "stdout",
     "output_type": "stream",
     "text": [
      "1\n",
      "2\n",
      "3\n",
      "4\n",
      "5\n",
      "6\n",
      "7\n",
      "8\n",
      "9\n",
      "10\n"
     ]
    }
   ],
   "source": [
    "a=1\n",
    "while a!=11:\n",
    "    print(a)\n",
    "    a+=1"
   ]
  },
  {
   "cell_type": "code",
   "execution_count": 25,
   "id": "330bcad8",
   "metadata": {},
   "outputs": [
    {
     "name": "stdout",
     "output_type": "stream",
     "text": [
      "Enter Any Alphabet=t\n",
      "Enter Any Alphabet=p\n",
      "Hello\n",
      "Enter Any Alphabet=q\n",
      "bye\n"
     ]
    }
   ],
   "source": [
    "a=input(\"Enter Any Alphabet=\")\n",
    "while a!='q':\n",
    "   \n",
    "    if a=='p':\n",
    "        print(\"Hello\")\n",
    "    a=input(\"Enter Any Alphabet=\")\n",
    "print('bye')"
   ]
  },
  {
   "cell_type": "code",
   "execution_count": 27,
   "id": "e8400e18",
   "metadata": {},
   "outputs": [
    {
     "name": "stdout",
     "output_type": "stream",
     "text": [
      "Enter Any No.=7\n",
      "7 * 1 = 7\n",
      "7 * 2 = 14\n",
      "7 * 3 = 21\n",
      "7 * 4 = 28\n",
      "7 * 5 = 35\n",
      "7 * 6 = 42\n",
      "7 * 7 = 49\n",
      "7 * 8 = 56\n",
      "7 * 9 = 63\n",
      "7 * 10 = 70\n"
     ]
    }
   ],
   "source": [
    "i=1\n",
    "n=int(input(\"Enter Any No.=\"))\n",
    "while i!=11:\n",
    "    print(n,\"*\",i,\"=\",n*i)\n",
    "    i+=1"
   ]
  },
  {
   "cell_type": "code",
   "execution_count": 5,
   "id": "19df11e8",
   "metadata": {},
   "outputs": [
    {
     "name": "stdout",
     "output_type": "stream",
     "text": [
      "Enter a No.=10\n",
      "1\n",
      "2\n",
      "5\n",
      "10\n"
     ]
    }
   ],
   "source": [
    "# Factor\n",
    "a=int(input(\"Enter a No.=\"))\n",
    "for i in range(1,a+1):\n",
    "    if a%i==0:\n",
    "        print(i)"
   ]
  },
  {
   "cell_type": "code",
   "execution_count": 7,
   "id": "40976cfb",
   "metadata": {},
   "outputs": [
    {
     "name": "stdout",
     "output_type": "stream",
     "text": [
      "Enter Starting No.=2\n",
      "Enter Ending No.=4\n",
      "Factor of  2 :\n",
      "1\n",
      "2\n",
      "================================================\n",
      "Factor of  3 :\n",
      "1\n",
      "3\n",
      "================================================\n",
      "Factor of  4 :\n",
      "1\n",
      "2\n",
      "4\n",
      "================================================\n"
     ]
    }
   ],
   "source": [
    "# Range Factor\n",
    "s=int(input(\"Enter Starting No.=\"))\n",
    "e=int(input(\"Enter Ending No.=\"))\n",
    "for i in range(s,e+1):\n",
    "    print(\"Factor of \",i,\":\")\n",
    "    for j in range(1,i+1):\n",
    "        if i%j==0:\n",
    "            print(j)\n",
    "    print(\"================================================\")"
   ]
  },
  {
   "cell_type": "code",
   "execution_count": null,
   "id": "aec9834d",
   "metadata": {},
   "outputs": [],
   "source": [
    "# Factorial of while condition\n",
    "# given no. of power of 2\n",
    "# given no. of power of 3"
   ]
  },
  {
   "cell_type": "code",
   "execution_count": 2,
   "id": "1e2bbc0a",
   "metadata": {},
   "outputs": [
    {
     "name": "stdout",
     "output_type": "stream",
     "text": [
      "Enter Any No.=10\n",
      "Factorial is  3628800\n"
     ]
    }
   ],
   "source": [
    "f=int(input(\"Enter Any No.=\"))\n",
    "a=1\n",
    "while f>=1:\n",
    "    a=a*f\n",
    "    f=f-1\n",
    "print(\"Factorial is \",a)"
   ]
  },
  {
   "cell_type": "code",
   "execution_count": 6,
   "id": "29761576",
   "metadata": {},
   "outputs": [
    {
     "name": "stdout",
     "output_type": "stream",
     "text": [
      "Enter Any No.=4\n",
      "Yes it's a square of  2\n"
     ]
    }
   ],
   "source": [
    "n=int(input(\"Enter Any No.=\"))\n",
    "a=1\n",
    "while a<=n:\n",
    "    if n==a*a:\n",
    "        print(\"Yes it's a square of \",a)\n",
    "        break\n",
    "    a=a+1\n",
    "else:   \n",
    "    print(n,\" is not a square of any no.:\")"
   ]
  },
  {
   "cell_type": "code",
   "execution_count": 1,
   "id": "60f02032",
   "metadata": {},
   "outputs": [
    {
     "name": "stdout",
     "output_type": "stream",
     "text": [
      "Enter Any No.=64\n",
      "Yes it's a cube of  4\n",
      "64  is not a cube of any no.:\n"
     ]
    }
   ],
   "source": [
    "n=int(input(\"Enter Any No.=\"))\n",
    "a=1\n",
    "while a<=n:\n",
    "    if n==a**3:\n",
    "        print(\"Yes it's a cube of \",a)\n",
    "    a+=1\n",
    "    \n",
    "print(n,\" is not a cube of any no.:\")"
   ]
  },
  {
   "cell_type": "code",
   "execution_count": 12,
   "id": "a5ab0052",
   "metadata": {},
   "outputs": [
    {
     "name": "stdout",
     "output_type": "stream",
     "text": [
      "Enter Any No.=10\n",
      "Factorial is  3628800\n"
     ]
    }
   ],
   "source": [
    "f=int(input(\"Enter Any No.=\"))\n",
    "a=1\n",
    "b=1\n",
    "while a!=f+1:\n",
    "    b=b*a\n",
    "    a+=1\n",
    "print(\"Factorial is \",b)"
   ]
  },
  {
   "cell_type": "code",
   "execution_count": 4,
   "id": "8c882d60",
   "metadata": {},
   "outputs": [
    {
     "name": "stdout",
     "output_type": "stream",
     "text": [
      "Enter Any no.=13\n",
      "It's a Prime No.:\n"
     ]
    }
   ],
   "source": [
    "# prime no. or not\n",
    "n=int(input(\"Enter Any no.=\"))\n",
    "f=0\n",
    "for i in range(2,n//2+1):\n",
    "    if n%i==0:\n",
    "        f=1\n",
    "if f==0:\n",
    "    print(\"It's a Prime No.:\")\n",
    "else:\n",
    "    print(\"It's is not a Prime no.\")"
   ]
  },
  {
   "cell_type": "code",
   "execution_count": 11,
   "id": "c1dbed70",
   "metadata": {},
   "outputs": [
    {
     "name": "stdout",
     "output_type": "stream",
     "text": [
      "Enter Any No.=10\n",
      "0\n",
      "1\n",
      "1\n",
      "2\n",
      "3\n",
      "5\n",
      "8\n",
      "13\n",
      "21\n",
      "34\n"
     ]
    }
   ],
   "source": [
    "n=int(input(\"Enter Any No.=\"))\n",
    "a=0\n",
    "b=1\n",
    "while n>0:\n",
    "    print(a)\n",
    "    c=a\n",
    "    a=b\n",
    "    b=a+c\n",
    "    n=n-1"
   ]
  },
  {
   "cell_type": "code",
   "execution_count": 15,
   "id": "83f08321",
   "metadata": {},
   "outputs": [
    {
     "name": "stdout",
     "output_type": "stream",
     "text": [
      "Enter Any No.=-1\n",
      "Not Possible:\n"
     ]
    }
   ],
   "source": [
    "n=int(input(\"Enter Any No.=\"))\n",
    "f=1\n",
    "a=1\n",
    "if n<0:\n",
    "    print(\"Not Possible:\")\n",
    "elif n==0:\n",
    "    print(f)\n",
    "else:\n",
    "    while n>=1:\n",
    "        a=a*n\n",
    "        n=n-1\n",
    "    print(a)"
   ]
  },
  {
   "cell_type": "code",
   "execution_count": 1,
   "id": "5808fedb",
   "metadata": {},
   "outputs": [
    {
     "name": "stdout",
     "output_type": "stream",
     "text": [
      "10\n"
     ]
    }
   ],
   "source": [
    "n=9645654554\n",
    "c=0\n",
    "while n!=0:\n",
    "    c=c+1\n",
    "    n=n//10\n",
    "print(c)"
   ]
  },
  {
   "cell_type": "code",
   "execution_count": 2,
   "id": "ae292cb9",
   "metadata": {},
   "outputs": [
    {
     "name": "stdout",
     "output_type": "stream",
     "text": [
      "Enter Your Mobile No.=9676556365\n",
      "10\n",
      "Yes it's your no.:\n"
     ]
    }
   ],
   "source": [
    "n=input(\"Enter Your Mobile No.=\")\n",
    "b=0\n",
    "c=int(n)\n",
    "while c!=0:\n",
    "        b=b+1\n",
    "        c=c//10\n",
    "print(b)\n",
    "if b==10:\n",
    "    if n=='9676556365':\n",
    "        print(\"Yes it's your no.:\")\n",
    "    else:\n",
    "        print(\"It's not your no.:\")\n",
    "else:\n",
    "    print(\"Reenter the correct no.:\")"
   ]
  },
  {
   "cell_type": "code",
   "execution_count": 12,
   "id": "f2037393",
   "metadata": {},
   "outputs": [
    {
     "name": "stdout",
     "output_type": "stream",
     "text": [
      "Enter Any No.=124\n",
      "Reverse No.= 421\n"
     ]
    }
   ],
   "source": [
    "# Reverse a No.\n",
    "b=0\n",
    "n=int(input(\"Enter Any No.=\"))\n",
    "while n!=0:\n",
    "    a=n%10\n",
    "    b=b*10+a\n",
    "    n=n//10\n",
    "print(\"Reverse No.=\",b)"
   ]
  },
  {
   "cell_type": "code",
   "execution_count": 27,
   "id": "f1d3b643",
   "metadata": {},
   "outputs": [
    {
     "name": "stdout",
     "output_type": "stream",
     "text": [
      "Enter Any No.=153\n",
      "It's a Armstrong No,:\n"
     ]
    }
   ],
   "source": [
    "# Armstrong Number\n",
    "n=int(input(\"Enter Any No.=\"))\n",
    "x=n\n",
    "y=x\n",
    "c=0\n",
    "arm=0\n",
    "while n!=0:\n",
    "    c=c+1\n",
    "    n=n//10\n",
    "# print(c)\n",
    "\n",
    "while x!=0:\n",
    "    d=x%10\n",
    "    arm=arm+(d**c)\n",
    "    x=x//10\n",
    "if arm==y:\n",
    "    print(\"It's a Armstrong No,:\")\n",
    "else:\n",
    "      print(\"It's not a Armstrong No,:\")\n"
   ]
  },
  {
   "cell_type": "code",
   "execution_count": 8,
   "id": "7e57db35",
   "metadata": {},
   "outputs": [
    {
     "name": "stdout",
     "output_type": "stream",
     "text": [
      "Enter a no.=122\n",
      "17\n",
      "It is not a Armstrong NO.:\n"
     ]
    }
   ],
   "source": [
    "b=0\n",
    "n=int(input(\"Enter a no.=\"))\n",
    "x=n\n",
    "l=len(str(n))\n",
    "while n!=0:\n",
    "    a=n%10\n",
    "    b=b+a**l\n",
    "    n=n//10\n",
    "print(b)\n",
    "if b==x:\n",
    "    print(\"It is a Armstrong No.:\")\n",
    "else:\n",
    "    print(\"It is not a Armstrong NO.:\")"
   ]
  },
  {
   "cell_type": "code",
   "execution_count": 9,
   "id": "b6bbd7d4",
   "metadata": {},
   "outputs": [
    {
     "name": "stdout",
     "output_type": "stream",
     "text": [
      "Enter Any no.=124\n",
      "73\n",
      "Not Armstrong:\n"
     ]
    }
   ],
   "source": [
    "b=0\n",
    "n=int(input(\"Enter Any no.=\"))\n",
    "d=n\n",
    "while n!=0:\n",
    "    a=n%10\n",
    "    b=b+a**3\n",
    "    n=n//10\n",
    "print(b)\n",
    "if b==d:\n",
    "    print(\"Armstrong No.:\")\n",
    "else:\n",
    "    print(\"Not Armstrong:\")"
   ]
  },
  {
   "cell_type": "code",
   "execution_count": 28,
   "id": "1411da11",
   "metadata": {},
   "outputs": [
    {
     "name": "stdout",
     "output_type": "stream",
     "text": [
      "Enter Any No.=122\n",
      "122 Not a Armstrong No.:\n"
     ]
    }
   ],
   "source": [
    "n=int(input(\"Enter Any No.=\"))\n",
    "b=n\n",
    "d=b\n",
    "a=0\n",
    "arm=0\n",
    "while n!=0:\n",
    "    a=a+1\n",
    "    n=n//10\n",
    "#print(a)\n",
    "while b!=0:\n",
    "    c=b%10\n",
    "    arm=arm+(c**a)\n",
    "    b=b//10\n",
    "if arm==d:\n",
    "    print(d,\"Armstrong No.:\")\n",
    "else:\n",
    "    print(d,\"Not a Armstrong No.:\")"
   ]
  },
  {
   "cell_type": "code",
   "execution_count": 30,
   "id": "84a86990",
   "metadata": {},
   "outputs": [
    {
     "name": "stdout",
     "output_type": "stream",
     "text": [
      "Enter Any No.=242\n",
      "242\n",
      "Palidrom No.:\n"
     ]
    }
   ],
   "source": [
    "n=int(input(\"Enter Any No.=\"))\n",
    "x=n\n",
    "rev=0\n",
    "while n!=0:\n",
    "    d=n%10\n",
    "    rev=rev*10+d\n",
    "    n=n//10\n",
    "\n",
    "print(rev)\n",
    "if rev==x:\n",
    "    print(\"Palidrom No.:\")\n",
    "else:\n",
    "    print(\"Not a Palidrom No.:\")\n"
   ]
  },
  {
   "cell_type": "code",
   "execution_count": 10,
   "id": "3b292c05",
   "metadata": {},
   "outputs": [
    {
     "name": "stdout",
     "output_type": "stream",
     "text": [
      "Enter Any No.=124\n",
      "421\n",
      "Not a Palindrom No.:\n"
     ]
    }
   ],
   "source": [
    "b=0\n",
    "n=int(input(\"Enter Any No.=\"))\n",
    "x=n\n",
    "while n!=0:\n",
    "    a=n%10\n",
    "    b=b*10+a\n",
    "    n=n//10\n",
    "print(b)\n",
    "if b==x:\n",
    "    print(\"Palindrom No.:\")\n",
    "else:\n",
    "    print(\"Not a Palindrom No.:\")"
   ]
  },
  {
   "cell_type": "code",
   "execution_count": 34,
   "id": "2c2e4023",
   "metadata": {},
   "outputs": [
    {
     "name": "stdout",
     "output_type": "stream",
     "text": [
      "Enter Any no.=124\n",
      "124  not a palidrom no.:\n"
     ]
    }
   ],
   "source": [
    "n=int(input(\"Enter Any no.=\"))\n",
    "a=n\n",
    "b=0\n",
    "while n!=0:\n",
    "    c=n%10\n",
    "    b=b*10+c\n",
    "    n=n//10\n",
    "#print(b)\n",
    "if b==a:\n",
    "    print(a,\"Yes it's a palidrom no.:\")\n",
    "else:\n",
    "    print(a,\" not a palidrom no.:\")"
   ]
  },
  {
   "cell_type": "code",
   "execution_count": null,
   "id": "43b8f39d",
   "metadata": {},
   "outputs": [],
   "source": [
    "# print 100 to 1 no. in reverse"
   ]
  },
  {
   "cell_type": "code",
   "execution_count": 8,
   "id": "cd9d2dfb",
   "metadata": {},
   "outputs": [
    {
     "name": "stdout",
     "output_type": "stream",
     "text": [
      "100\n",
      "99\n",
      "98\n",
      "97\n",
      "96\n",
      "95\n",
      "94\n",
      "93\n",
      "92\n",
      "91\n",
      "90\n",
      "89\n",
      "88\n",
      "87\n",
      "86\n",
      "85\n",
      "84\n",
      "83\n",
      "82\n",
      "81\n",
      "80\n",
      "79\n",
      "78\n",
      "77\n",
      "76\n",
      "75\n",
      "74\n",
      "73\n",
      "72\n",
      "71\n",
      "70\n",
      "69\n",
      "68\n",
      "67\n",
      "66\n",
      "65\n",
      "64\n",
      "63\n",
      "62\n",
      "61\n",
      "60\n",
      "59\n",
      "58\n",
      "57\n",
      "56\n",
      "55\n",
      "54\n",
      "53\n",
      "52\n",
      "51\n",
      "50\n",
      "49\n",
      "48\n",
      "47\n",
      "46\n",
      "45\n",
      "44\n",
      "43\n",
      "42\n",
      "41\n",
      "40\n",
      "39\n",
      "38\n",
      "37\n",
      "36\n",
      "35\n",
      "34\n",
      "33\n",
      "32\n",
      "31\n",
      "30\n",
      "29\n",
      "28\n",
      "27\n",
      "26\n",
      "25\n",
      "24\n",
      "23\n",
      "22\n",
      "21\n",
      "20\n",
      "19\n",
      "18\n",
      "17\n",
      "16\n",
      "15\n",
      "14\n",
      "13\n",
      "12\n",
      "11\n",
      "10\n",
      "9\n",
      "8\n",
      "7\n",
      "6\n",
      "5\n",
      "4\n",
      "3\n",
      "2\n",
      "1\n"
     ]
    }
   ],
   "source": [
    "a=100\n",
    "b=1\n",
    "while a>=b:\n",
    "    print(a)\n",
    "    a=a-1"
   ]
  },
  {
   "cell_type": "code",
   "execution_count": 17,
   "id": "6448fc9c",
   "metadata": {},
   "outputs": [
    {
     "name": "stdout",
     "output_type": "stream",
     "text": [
      "100\n",
      "99\n",
      "98\n",
      "97\n",
      "96\n",
      "95\n",
      "94\n",
      "93\n",
      "92\n",
      "91\n",
      "90\n",
      "89\n",
      "88\n",
      "87\n",
      "86\n",
      "85\n",
      "84\n",
      "83\n",
      "82\n",
      "81\n",
      "80\n",
      "79\n",
      "78\n",
      "77\n",
      "76\n",
      "75\n",
      "74\n",
      "73\n",
      "72\n",
      "71\n",
      "70\n",
      "69\n",
      "68\n",
      "67\n",
      "66\n",
      "65\n",
      "64\n",
      "63\n",
      "62\n",
      "61\n",
      "60\n",
      "59\n",
      "58\n",
      "57\n",
      "56\n",
      "55\n",
      "54\n",
      "53\n",
      "52\n",
      "51\n",
      "50\n",
      "49\n",
      "48\n",
      "47\n",
      "46\n",
      "45\n",
      "44\n",
      "43\n",
      "42\n",
      "41\n",
      "40\n",
      "39\n",
      "38\n",
      "37\n",
      "36\n",
      "35\n",
      "34\n",
      "33\n",
      "32\n",
      "31\n",
      "30\n",
      "29\n",
      "28\n",
      "27\n",
      "26\n",
      "25\n",
      "24\n",
      "23\n",
      "22\n",
      "21\n",
      "20\n",
      "19\n",
      "18\n",
      "17\n",
      "16\n",
      "15\n",
      "14\n",
      "13\n",
      "12\n",
      "11\n",
      "10\n",
      "9\n",
      "8\n",
      "7\n",
      "6\n",
      "5\n",
      "4\n",
      "3\n",
      "2\n",
      "1\n"
     ]
    }
   ],
   "source": [
    "# Print No. 100 to 1 in reverse\n",
    "for i in range(100,0,-1):\n",
    "    print(i)"
   ]
  },
  {
   "cell_type": "code",
   "execution_count": 31,
   "id": "e6ccc377",
   "metadata": {},
   "outputs": [
    {
     "name": "stdout",
     "output_type": "stream",
     "text": [
      "Enter Any No.=2345678987654323456787654323456784657687989087685728798098844578908976485734625687890997865764678097857657867980987665788975887889878799878689898989888\n",
      "3\n"
     ]
    }
   ],
   "source": [
    "# \n",
    "n=int(input(\"Enter Any No.=\"))\n",
    "c=0\n",
    "s=0\n",
    "while n>0 or c>9:\n",
    "    if n==0:\n",
    "        n=c\n",
    "        c=0\n",
    "        \n",
    "    c=c+n%10\n",
    "    n=n//10\n",
    "print(c)"
   ]
  },
  {
   "cell_type": "code",
   "execution_count": 6,
   "id": "339464bb",
   "metadata": {},
   "outputs": [
    {
     "name": "stdout",
     "output_type": "stream",
     "text": [
      "Enter Any no.=7777\n",
      "Notes of 2000= 3\n",
      "Notes of 500= 3\n",
      "Notes of 200= 1\n",
      "Notes of 100= 0\n",
      "Notes of 50= 1\n",
      "Notes of 20= 1\n",
      "Notes of 10= 0\n",
      "Notes of 5= 1\n",
      "Notes of 2= 1\n",
      "Notes of 1= 0\n"
     ]
    }
   ],
   "source": [
    "# How many notes \n",
    "n=int(input(\"Enter Any no.=\"))\n",
    "a=n//2000\n",
    "print(\"Notes of 2000=\",a)\n",
    "n=n%2000\n",
    "a=n//500\n",
    "print(\"Notes of 500=\",a)\n",
    "n=n%500\n",
    "a=n//200\n",
    "print(\"Notes of 200=\",a)\n",
    "n=n%200\n",
    "a=n//100\n",
    "print(\"Notes of 100=\",a)\n",
    "n=n%100\n",
    "a=n//50\n",
    "print(\"Notes of 50=\",a)\n",
    "n=n%50\n",
    "a=n//20\n",
    "print(\"Notes of 20=\",a)\n",
    "n=n%20\n",
    "a=n//10\n",
    "print(\"Notes of 10=\",a)\n",
    "n=n%10\n",
    "a=n//5\n",
    "print(\"Notes of 5=\",a)\n",
    "n=n%5\n",
    "a=n//2\n",
    "print(\"Notes of 2=\",a)\n",
    "n=n%2\n",
    "a=n//1\n",
    "print(\"Notes of 1=\",a)"
   ]
  },
  {
   "cell_type": "code",
   "execution_count": null,
   "id": "7a231320",
   "metadata": {},
   "outputs": [],
   "source": [
    "# for loop ma three no.\n",
    "# example. for i in range(1,11,4)"
   ]
  },
  {
   "cell_type": "code",
   "execution_count": 9,
   "id": "1a884810",
   "metadata": {},
   "outputs": [
    {
     "name": "stdout",
     "output_type": "stream",
     "text": [
      "1\n",
      "5\n",
      "9\n",
      "13\n",
      "17\n"
     ]
    }
   ],
   "source": [
    "for i in range(1,20,4):\n",
    "    print(i)"
   ]
  },
  {
   "cell_type": "code",
   "execution_count": 9,
   "id": "2ebd0622",
   "metadata": {},
   "outputs": [
    {
     "name": "stdout",
     "output_type": "stream",
     "text": [
      "6 python\n",
      "4 java\n",
      "4 perl\n",
      "6 pascal\n",
      "3 c++\n",
      "2 c#\n",
      "4 java\n"
     ]
    }
   ],
   "source": [
    "l=['python','java','perl','pascal','c++','c#','java']\n",
    "for i in l:\n",
    "    a=0\n",
    "    for j in i:\n",
    "        a=a+1\n",
    "    print(a,i)"
   ]
  },
  {
   "cell_type": "code",
   "execution_count": 13,
   "id": "44591699",
   "metadata": {},
   "outputs": [
    {
     "name": "stdout",
     "output_type": "stream",
     "text": [
      "99\n",
      "97\n",
      "95\n",
      "93\n",
      "91\n",
      "89\n",
      "87\n",
      "85\n",
      "83\n",
      "81\n",
      "79\n",
      "77\n",
      "75\n",
      "73\n",
      "71\n",
      "69\n",
      "67\n",
      "65\n",
      "63\n",
      "61\n",
      "59\n",
      "57\n",
      "55\n",
      "53\n",
      "51\n",
      "49\n",
      "47\n",
      "45\n",
      "43\n",
      "41\n",
      "39\n",
      "37\n",
      "35\n",
      "33\n",
      "31\n",
      "29\n",
      "27\n",
      "25\n",
      "23\n",
      "21\n",
      "19\n",
      "17\n",
      "15\n",
      "13\n",
      "11\n",
      "9\n",
      "7\n",
      "5\n",
      "3\n",
      "1\n"
     ]
    }
   ],
   "source": [
    "for i in range(100,0,-1):\n",
    "    if i%2!=0:\n",
    "        print(i)"
   ]
  },
  {
   "cell_type": "code",
   "execution_count": 36,
   "id": "fc10a255",
   "metadata": {},
   "outputs": [
    {
     "name": "stdout",
     "output_type": "stream",
     "text": [
      "99\n",
      "97\n",
      "95\n",
      "93\n",
      "91\n",
      "89\n",
      "87\n",
      "85\n",
      "83\n",
      "81\n",
      "79\n",
      "77\n",
      "75\n",
      "73\n",
      "71\n",
      "69\n",
      "67\n",
      "65\n",
      "63\n",
      "61\n",
      "59\n",
      "57\n",
      "55\n",
      "53\n",
      "51\n",
      "49\n",
      "47\n",
      "45\n",
      "43\n",
      "41\n",
      "39\n",
      "37\n",
      "35\n",
      "33\n",
      "31\n",
      "29\n",
      "27\n",
      "25\n",
      "23\n",
      "21\n",
      "19\n",
      "17\n",
      "15\n",
      "13\n",
      "11\n",
      "9\n",
      "7\n",
      "5\n",
      "3\n",
      "1\n"
     ]
    }
   ],
   "source": [
    "for i in range(99,0,-2):\n",
    "        print(i)"
   ]
  },
  {
   "cell_type": "code",
   "execution_count": 3,
   "id": "eacb0f54",
   "metadata": {},
   "outputs": [
    {
     "name": "stdout",
     "output_type": "stream",
     "text": [
      "99\n",
      "97\n",
      "95\n",
      "93\n",
      "91\n",
      "89\n",
      "87\n",
      "85\n",
      "83\n",
      "81\n",
      "79\n",
      "77\n",
      "75\n",
      "73\n",
      "71\n",
      "69\n",
      "67\n",
      "65\n",
      "63\n",
      "61\n",
      "59\n",
      "57\n",
      "55\n",
      "53\n",
      "51\n",
      "49\n",
      "47\n",
      "45\n",
      "43\n",
      "41\n",
      "39\n",
      "37\n",
      "35\n",
      "33\n",
      "31\n",
      "29\n",
      "27\n",
      "25\n",
      "23\n",
      "21\n",
      "19\n",
      "17\n",
      "15\n",
      "13\n",
      "11\n",
      "9\n",
      "7\n",
      "5\n",
      "3\n",
      "1\n",
      "-1\n",
      "-3\n"
     ]
    }
   ],
   "source": [
    "for i in range(99,-4,-2):\n",
    "    print(i)"
   ]
  },
  {
   "cell_type": "code",
   "execution_count": 6,
   "id": "2eb2f35b",
   "metadata": {},
   "outputs": [
    {
     "name": "stdout",
     "output_type": "stream",
     "text": [
      "2\n",
      "4\n",
      "6\n",
      "8\n",
      "10\n",
      "12\n",
      "14\n",
      "16\n",
      "18\n",
      "20\n",
      "22\n",
      "24\n",
      "26\n",
      "28\n",
      "30\n",
      "32\n",
      "34\n",
      "36\n",
      "38\n",
      "40\n",
      "42\n",
      "44\n",
      "46\n",
      "48\n",
      "50\n",
      "52\n",
      "54\n",
      "56\n",
      "58\n",
      "60\n",
      "62\n",
      "64\n",
      "66\n",
      "68\n",
      "70\n",
      "72\n",
      "74\n",
      "76\n",
      "78\n",
      "80\n",
      "82\n",
      "84\n",
      "86\n",
      "88\n",
      "90\n",
      "92\n",
      "94\n",
      "96\n",
      "98\n",
      "100\n"
     ]
    }
   ],
   "source": [
    "for i in range(2,101,2):\n",
    "    print(i)"
   ]
  },
  {
   "cell_type": "code",
   "execution_count": 8,
   "id": "058b99fc",
   "metadata": {},
   "outputs": [
    {
     "name": "stdout",
     "output_type": "stream",
     "text": [
      "2\n",
      "4\n",
      "6\n",
      "8\n",
      "10\n",
      "12\n",
      "14\n",
      "16\n",
      "18\n",
      "20\n",
      "22\n",
      "24\n",
      "26\n",
      "28\n",
      "30\n",
      "32\n",
      "34\n",
      "36\n",
      "38\n",
      "40\n",
      "42\n",
      "44\n",
      "46\n",
      "48\n",
      "50\n",
      "52\n",
      "54\n",
      "56\n",
      "58\n",
      "60\n",
      "62\n",
      "64\n",
      "66\n",
      "68\n",
      "70\n",
      "72\n",
      "74\n",
      "76\n",
      "78\n",
      "80\n",
      "82\n",
      "84\n",
      "86\n",
      "88\n",
      "90\n",
      "92\n",
      "94\n",
      "96\n",
      "98\n",
      "100\n"
     ]
    }
   ],
   "source": [
    "for i in range(1,101):\n",
    "    if i%2==0:\n",
    "        print(i)"
   ]
  },
  {
   "cell_type": "code",
   "execution_count": 12,
   "id": "55007b00",
   "metadata": {},
   "outputs": [
    {
     "name": "stdout",
     "output_type": "stream",
     "text": [
      "Enter Any No.=2\n"
     ]
    }
   ],
   "source": [
    "n=int(input(\"Enter Any No.=\"))\n",
    "if n%2!=0:\n",
    "    print(n)\n",
    "else:\n",
    "    pass"
   ]
  }
 ],
 "metadata": {
  "kernelspec": {
   "display_name": "Python 3 (ipykernel)",
   "language": "python",
   "name": "python3"
  },
  "language_info": {
   "codemirror_mode": {
    "name": "ipython",
    "version": 3
   },
   "file_extension": ".py",
   "mimetype": "text/x-python",
   "name": "python",
   "nbconvert_exporter": "python",
   "pygments_lexer": "ipython3",
   "version": "3.9.12"
  }
 },
 "nbformat": 4,
 "nbformat_minor": 5
}
